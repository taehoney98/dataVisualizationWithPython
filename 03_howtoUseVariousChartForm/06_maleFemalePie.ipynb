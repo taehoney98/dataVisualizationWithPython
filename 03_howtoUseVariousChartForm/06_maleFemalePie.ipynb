{
 "cells": [
  {
   "cell_type": "markdown",
   "metadata": {},
   "source": [
    "# maleFemalePie.ipynb\n",
    "https://matplotlib.org/stable/api/_as_gen/matplotlib.pyplot.pie.html\n",
    "\n",
    "autopct : 소수점 자리수 설정\n",
    "\n",
    "startangle :  시작 각도 설정\n",
    "\n",
    "explode : 중앙에서 벗어나 강조할 부분 설정"
   ]
  },
  {
   "cell_type": "code",
   "execution_count": null,
   "metadata": {},
   "outputs": [],
   "source": [
    "import csv\n",
    "f = open('gender.csv')\n",
    "data = csv.reader(f)\n",
    "size=[]\n",
    "name= input('지역명 입력: ')\n",
    "\n",
    "for row in data:\n",
    "    if name in row[0]:\n",
    "        m = 0\n",
    "        f = 0\n",
    "        for i in range(101):\n",
    "            m+=int(row[i+3].replace(\",\" , \"\"))\n",
    "            f+=int(row[i+106].replace(\",\" , \"\"))\n",
    "        break\n",
    "size.append(m)\n",
    "size.append(f)\n",
    "print(size)"
   ]
  },
  {
   "cell_type": "code",
   "execution_count": null,
   "metadata": {},
   "outputs": [],
   "source": [
    "import matplotlib.pyplot as plt\n",
    "plt.rc('font', family = 'Malgun Gothic')\n",
    "color=['crimson', 'darkcyan']\n",
    "plt.axis('equal')\n",
    "plt.pie(size,labels=['남' , '여'], autopct='%5.1f%%' , colors=color , startangle=90)\n",
    "plt.title(name+ ' 지역의 남녀 성별 비율')\n",
    "plt.show()"
   ]
  },
  {
   "cell_type": "code",
   "execution_count": null,
   "metadata": {},
   "outputs": [],
   "source": [
    "import csv\n",
    "f = open('gender.csv')\n",
    "data = csv.reader(f)\n",
    "size=[]\n",
    "\n",
    "province= input('도 이름을 입력하세요 ')\n",
    "country = input('구 이름을 입력하세요 ')\n",
    "name = input('읍면동을 입력하세요 ')\n",
    "\n",
    "for row in data:\n",
    "    if  (province and country and name ) in row[0]:\n",
    "        m=0\n",
    "        f=0\n",
    "        for i in row [3:104]:\n",
    "            m +=int(i.replace(',',''))\n",
    "        for i in row [106: ]:\n",
    "            f +=int(i.replace(',',''))    \n",
    "        break\n",
    "size.append(m)\n",
    "size.append(f)"
   ]
  },
  {
   "cell_type": "code",
   "execution_count": null,
   "metadata": {},
   "outputs": [],
   "source": [
    "import matplotlib.pyplot as plt\n",
    "\n",
    "label=['남자','여자']\n",
    "color = ['skyblue', 'pink']\n",
    "explodeEff= [0,0.1]\n",
    "\n",
    "plt.rc('font', family = 'Malgun Gothic')\n",
    "plt.rcParams['axes.unicode_minus']= False\n",
    "\n",
    "plt.title(province+country + ' 지역의 남녀 성별인구 분포 인구구조 in pieChart')\n",
    "\n",
    "#plt.axis('equal')  가로축과 세로축이 같게 설정\n",
    "plt.pie(size , labels=label , autopct='% .2f%%' ,colors=color,radius =1, explode=explodeEff ,shadow= True ,startangle = 90) \n",
    "plt.legend(title = province + country +name , loc ='center right' , bbox_to_anchor= (1,0,0.5,1) )\n",
    "plt.show()"
   ]
  },
  {
   "cell_type": "code",
   "execution_count": null,
   "metadata": {},
   "outputs": [],
   "source": [
    "import matplotlib.pyplot as plt\n",
    "size = [size[0],size[1]]#size 순서대로 나타냄\n",
    "\n",
    "\n",
    "label=['남성','여성']\n",
    "color = ['skyblue', 'pink']#list로 인자값 넘겨주는게 용의\n",
    "\n",
    "explodeEff= [0,0.1] #돌출 정도 설정\n",
    "plt.rc('font',family = 'Malgun Gothic')\n",
    "plt.axis('equal')\n",
    "plt.pie(size , labels=label , autopct='% .1f%%' ,colors=color,explode=explodeEff ,radius =1) \n",
    "plt.legend(title = province+ country + name  , loc ='center right' , bbox_to_anchor= (1,0,0.5,1) )\n",
    "plt.show()"
   ]
  }
 ],
 "metadata": {
  "interpreter": {
   "hash": "3c6629c952f1cdae0ea3ff67a17795d11700bc42010e89d050c3c06faece7950"
  },
  "kernelspec": {
   "display_name": "Python 3.10.4 64-bit (windows store)",
   "language": "python",
   "name": "python3"
  },
  "language_info": {
   "codemirror_mode": {
    "name": "ipython",
    "version": 3
   },
   "file_extension": ".py",
   "mimetype": "text/x-python",
   "name": "python",
   "nbconvert_exporter": "python",
   "pygments_lexer": "ipython3",
   "version": "3.10.4"
  }
 },
 "nbformat": 4,
 "nbformat_minor": 2
}
