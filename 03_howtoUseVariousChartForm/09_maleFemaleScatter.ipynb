{
 "cells": [
  {
   "cell_type": "markdown",
   "metadata": {},
   "source": [
    "# maleFemaleScatter.ipynb\n",
    "gender.csv를 이용해 입력받은 지역의 남녀 인구수를 scatter함수를 통해 bubble chart로 나타낸다."
   ]
  },
  {
   "cell_type": "code",
   "execution_count": null,
   "metadata": {},
   "outputs": [],
   "source": [
    "import csv\n",
    "import math\n",
    "f = open('gender.csv')\n",
    "data = csv.reader(f)\n",
    "m=[]\n",
    "f=[]\n",
    "name=input('지역명 입력')\n",
    "\n",
    "for row in data:\n",
    "    if  name in row[0]:\n",
    "        for i in range (3,104):\n",
    "            m.append(int(row[i]))\n",
    "            f.append(int(row[i+103]))\n",
    "        break\n",
    "\n",
    "        \n",
    "import matplotlib.pyplot as plt\n",
    "\n",
    "plt.scatter(m,f)\n",
    "plt.show()"
   ]
  },
  {
   "cell_type": "code",
   "execution_count": null,
   "metadata": {},
   "outputs": [],
   "source": [
    "import matplotlib.pyplot as plt\n",
    "\n",
    "plt.scatter(m,f,c=range(101), alpha=0.5,cmap='jet')\n",
    "plt.colorbar()\n",
    "plt.plot(range(max(m)),range(max(m)),'g')\n",
    "plt.show()"
   ]
  },
  {
   "cell_type": "code",
   "execution_count": null,
   "metadata": {},
   "outputs": [],
   "source": [
    "import csv\n",
    "import math\n",
    "f = open('gender.csv')\n",
    "data = csv.reader(f)\n",
    "m=[]\n",
    "f=[]\n",
    "size=[]\n",
    "province= input('도 이름을 입력하세요 ')\n",
    "country = input('구 이름을 입력하세요 ')\n",
    "name= input('읍면동 이름을 입력하세요 ')\n",
    "for row in data:\n",
    "    if  (province and country and name ) in row[0]:\n",
    "        for i in range (3,104):\n",
    "            m.append(int(row[i].replace(',', '')))\n",
    "            f.append(int(row[i+103].replace(',', '')))\n",
    "            size.append(math.sqrt(int(row[i].replace(',','')) +int(row[i+103].replace(',',''))))\n",
    "        break\n",
    "\n",
    "        \n"
   ]
  },
  {
   "cell_type": "code",
   "execution_count": null,
   "metadata": {},
   "outputs": [],
   "source": [
    "import matplotlib.pyplot as plt\n",
    "\n",
    "plt.figure(figsize=(10,5),dpi=300)\n",
    "plt.rc('font', family = 'Malgun Gothic')\n",
    "plt.rcParams['axes.unicode_minus']= False\n",
    "plt.rcParams['axes.grid'] = False\n",
    "\n",
    "\n",
    "plt.title(province + country +' 지역의 남녀 인구구조와 인구수 in Scatter(Bubble)Chart')\n",
    "\n",
    "plt.xlabel('남자 인구수')\n",
    "plt.ylabel('여자 인구수')\n",
    "plt.scatter(m,f,s=size,c=range(101),cmap='jet',alpha=0.5)\n",
    "plt.plot(range(max(m)),range(max(m)) , 'g')\n",
    "plt.colorbar()\n",
    "plt.show()"
   ]
  }
 ],
 "metadata": {
  "interpreter": {
   "hash": "3c6629c952f1cdae0ea3ff67a17795d11700bc42010e89d050c3c06faece7950"
  },
  "kernelspec": {
   "display_name": "Python 3.10.4 64-bit (windows store)",
   "language": "python",
   "name": "python3"
  },
  "language_info": {
   "codemirror_mode": {
    "name": "ipython",
    "version": 3
   },
   "file_extension": ".py",
   "mimetype": "text/x-python",
   "name": "python",
   "nbconvert_exporter": "python",
   "pygments_lexer": "ipython3",
   "version": "3.10.4"
  }
 },
 "nbformat": 4,
 "nbformat_minor": 2
}
