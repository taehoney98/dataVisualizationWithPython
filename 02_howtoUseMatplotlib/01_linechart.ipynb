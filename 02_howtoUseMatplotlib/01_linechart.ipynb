{
 "cells": [
  {
   "cell_type": "code",
   "execution_count": null,
   "metadata": {},
   "outputs": [],
   "source": [
    "import matplotlib.pyplot as plt\n",
    "plt.plot([10,20,30,40])\n",
    "plt.show()"
   ]
  },
  {
   "cell_type": "code",
   "execution_count": null,
   "metadata": {},
   "outputs": [],
   "source": [
    "import matplotlib.pyplot as plt\n",
    "plt.plot([1,2,3,4], [12,43,25,15])\n",
    "plt.show()"
   ]
  },
  {
   "cell_type": "code",
   "execution_count": null,
   "metadata": {},
   "outputs": [],
   "source": [
    "import matplotlib.pyplot as plt\n",
    "plt.title('plotting') #제목 추가\n",
    "plt.plot([1,2,3,4], [12,43,25,15])\n",
    "plt.show()\n"
   ]
  },
  {
   "cell_type": "markdown",
   "metadata": {},
   "source": [
    "# legend 범례 위치 설정\n",
    "\n",
    "| 2 | 9  | 1   |\n",
    "|---|----|-----|\n",
    "| 6 | 10 | 5,7 |\n",
    "| 3 | 8  | 4   |\n",
    "\n",
    "\n",
    "즉,  loc = 'lower right' 와 loc = 4는 같은 의미이다."
   ]
  },
  {
   "cell_type": "code",
   "execution_count": null,
   "metadata": {},
   "outputs": [],
   "source": [
    "import matplotlib.pyplot as plt\n",
    "\n",
    "plt.title('legend')\n",
    "plt.plot([1,2,3,4] , label ='asc') #증감 의미 범례 추가\n",
    "plt.plot([4,3,2,1] , label ='desc')\n",
    "\n",
    "plt.legend(loc = 4)\n",
    "# plt.legend(loc = 'lower right') 동일 의미\n",
    "plt.show()"
   ]
  },
  {
   "cell_type": "code",
   "execution_count": null,
   "metadata": {},
   "outputs": [],
   "source": [
    "import matplotlib.pyplot as plt\n",
    "\n",
    "plt.title('legend')\n",
    "plt.plot([1,2,3,4] ,color='g',linestyle= 'dashed', label ='green,dashed') # linestyle로 그래프 속성 변경\n",
    "plt.plot([4,3,2,1] , 'pink' ,linestyle=':', label ='dotted pink')\n",
    "\n",
    "plt.legend()\n",
    "plt.show()"
   ]
  },
  {
   "cell_type": "code",
   "execution_count": null,
   "metadata": {},
   "outputs": [],
   "source": [
    "import matplotlib.pyplot as plt\n",
    "\n",
    "plt.title('marker')\n",
    "plt.plot([1,2,3,4] ,color ='r', marker='o', label ='circle')\n",
    "plt.plot([4,3,2,1] , 'g^' ,linestyle=':', label ='triangle up')\n",
    "\n",
    "plt.legend()\n",
    "\n",
    "plt.show()"
   ]
  },
  {
   "cell_type": "code",
   "execution_count": null,
   "metadata": {},
   "outputs": [],
   "source": [
    "import matplotlib.pyplot as plt\n",
    "\n",
    "plt.title('marker')\n",
    "plt.plot([1,2,3,4] ,'ro', label ='circle')\n",
    "# plt.plot([1,2,3,4] ,color='r', marker='o', label ='circle')와 동일 의미\n",
    "\n",
    "plt.plot([4,3,2,1] , 'g^' ,linestyle=':', label ='triangle up')\n",
    "\n",
    "plt.legend()\n",
    "\n",
    "plt.show()"
   ]
  }
 ],
 "metadata": {
  "interpreter": {
   "hash": "3c6629c952f1cdae0ea3ff67a17795d11700bc42010e89d050c3c06faece7950"
  },
  "kernelspec": {
   "display_name": "Python 3.10.4 64-bit (windows store)",
   "language": "python",
   "name": "python3"
  },
  "language_info": {
   "codemirror_mode": {
    "name": "ipython",
    "version": 3
   },
   "file_extension": ".py",
   "mimetype": "text/x-python",
   "name": "python",
   "nbconvert_exporter": "python",
   "pygments_lexer": "ipython3",
   "version": "3.10.4"
  }
 },
 "nbformat": 4,
 "nbformat_minor": 2
}
