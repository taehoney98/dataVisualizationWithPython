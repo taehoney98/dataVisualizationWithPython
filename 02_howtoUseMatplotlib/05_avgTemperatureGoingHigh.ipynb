{
 "cells": [
  {
   "cell_type": "markdown",
   "metadata": {},
   "source": [
    "# avgTemperatureGoingHigh.ipynb\n",
    "\n",
    "seoul.csv 속의 1년동안의 평균기온을 구하고\n",
    "평균기온이 점진적으로 상승하고 있음을 matplotlib plot을 통해 알아본다."
   ]
  },
  {
   "cell_type": "code",
   "execution_count": null,
   "metadata": {},
   "outputs": [],
   "source": [
    "import csv\n",
    "import matplotlib.pyplot as plt\n",
    "f= open('seoul.csv')\n",
    "data = csv.reader(f)\n",
    "next(data)\n",
    "\n",
    "int_years=[]\n",
    "temperature=[]\n",
    "averageList=[]\n",
    "\n",
    "sum=0\n",
    "num=0\n",
    "\n",
    "for row in data:\n",
    "    if row[2]!='' and int(row[0].split('-')[0]) >=1908 :\n",
    "        int_years.append(int (row[0].split('-')[0])) # 해당년도 저장 \n",
    "        temperature.append(float(row[2])) # 평균기온 저장\n"
   ]
  },
  {
   "cell_type": "code",
   "execution_count": null,
   "metadata": {},
   "outputs": [],
   "source": [
    "for i in range(len(int_years)):\n",
    "    \n",
    "    if int_years[i] ==int_years[i-1]:\n",
    "        sum =sum + temperature[i]\n",
    "        sum = round(sum, 2) #소수점 둘째자리 반올림\n",
    "        num=num +1 \n",
    "    else: # 해가 바뀔때\n",
    "        if num!=0:\n",
    "            average = sum / num\n",
    "            averageList.append(average)\n",
    "        \n",
    "        # 1월 1일의 기록 저장\n",
    "        sum=temperature[i]\n",
    "        num=1\n",
    "\n",
    "\n",
    "f.close()"
   ]
  },
  {
   "cell_type": "code",
   "execution_count": null,
   "metadata": {},
   "outputs": [],
   "source": [
    "import matplotlib.pyplot as plt\n",
    "\n",
    "plt.plot(averageList)\n",
    "plt.show()\n",
    "\n"
   ]
  },
  {
   "cell_type": "code",
   "execution_count": null,
   "metadata": {},
   "outputs": [],
   "source": [
    "# 1953년에 날씨데이터가 제대로 기록되지 않아 크게 그래프가 튄 모습이 보인다. 1953년의 평균기온을 그래프에서 제거하자.\n",
    "# for avg in averageList:\n",
    "#     if avg <1:\n",
    "#         averageList.remove(avg)\n",
    "\n",
    "# plt.plot(averageList)\n",
    "\n",
    "# f.close()"
   ]
  },
  {
   "cell_type": "markdown",
   "metadata": {},
   "source": [
    "하지만 그래프의 X좌표가 해당 년도를 나타내지 않고, 그래프에서 제외된 년도가 표시되지 않아 직관성이 떨어진다.\n",
    "이를 좀더 직관적인 그래프로 수정하자. "
   ]
  },
  {
   "cell_type": "code",
   "execution_count": null,
   "metadata": {},
   "outputs": [],
   "source": [
    "dict_avg={}\n",
    "year = 1908\n",
    "for index in range(len(averageList)+2): # 1951년과 52년의 데이터는 존재 x, 50년과 53년의 데이터는 일부만 계산되어 부정확하므로 None으로 대체\n",
    "    if year <1950: #1949\n",
    "        dict_avg[year]= averageList[index]\n",
    "        year= year+1\n",
    "        \n",
    "    elif year>=1950 and year <1954: #1950 1951 1952 1953 \n",
    "        dict_avg[year]=None\n",
    "        year=year+1\n",
    "        #print(index)\n",
    "    #1949 1950 1953  1954\n",
    "    else:  #1954\n",
    "        dict_avg[year]=averageList[index-2] #50년과 53년의 데이터 skip\n",
    "        year=year+1"
   ]
  },
  {
   "cell_type": "code",
   "execution_count": null,
   "metadata": {},
   "outputs": [],
   "source": [
    "import matplotlib.pyplot as plt\n",
    "\n",
    "tempList= dict_avg.items()\n",
    "\n",
    "x ,y =zip(*tempList)\n",
    "\n",
    "\n",
    "plt.rc('font',family='Malgun Gothic')\n",
    "plt.title('1908-2020년 서울시의 평균온도 변화')\n",
    "\n",
    "plt.plot(x,y)\n",
    "plt.xlabel('년도')\n",
    "plt.ylabel('온도')\n",
    "plt.show()"
   ]
  }
 ],
 "metadata": {
  "interpreter": {
   "hash": "3c6629c952f1cdae0ea3ff67a17795d11700bc42010e89d050c3c06faece7950"
  },
  "kernelspec": {
   "display_name": "Python 3.10.4 64-bit (windows store)",
   "language": "python",
   "name": "python3"
  },
  "language_info": {
   "codemirror_mode": {
    "name": "ipython",
    "version": 3
   },
   "file_extension": ".py",
   "mimetype": "text/x-python",
   "name": "python",
   "nbconvert_exporter": "python",
   "pygments_lexer": "ipython3",
   "version": "3.10.4"
  },
  "orig_nbformat": 4
 },
 "nbformat": 4,
 "nbformat_minor": 2
}
