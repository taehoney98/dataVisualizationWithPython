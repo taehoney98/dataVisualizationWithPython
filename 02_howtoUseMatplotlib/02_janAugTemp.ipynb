{
 "cells": [
  {
   "cell_type": "markdown",
   "metadata": {},
   "source": [
    "# janAugTemp.ipynb\n",
    "seoul.csv 파일의 row[2]가  평균기온을 나타낸다는 정보를 이용해\n",
    "1월과 8월의 평균기온을 histogram을 통해 나타낸다."
   ]
  },
  {
   "cell_type": "code",
   "execution_count": 1,
   "metadata": {},
   "outputs": [
    {
     "data": {
      "image/png": "[encoded data removed]",
      "text/plain": [
       "<Figure size 432x288 with 1 Axes>"
      ]
     },
     "metadata": {
      "needs_background": "light"
     },
     "output_type": "display_data"
    }
   ],
   "source": [
    "import csv\n",
    "import matplotlib.pyplot as plt\n",
    "\n",
    "f =open('seoul.csv')\n",
    "data=csv.reader(f)\n",
    "next(data)\n",
    "\n",
    "\n",
    "jan=[]\n",
    "aug=[]\n",
    "\n",
    "\n",
    "for row in data:\n",
    "    month =row[0].split('-')[1]\n",
    "    if row[-1] !='':\n",
    "        if month=='01':\n",
    "            jan.append(float(row[2]))\n",
    "            \n",
    "        if month=='08':\n",
    "            aug.append(float(row[2]))\n",
    "        \n",
    "            \n",
    "plt.hist(aug, bins=100,color='r',label='Aug') #bins는 가로축 구간의 개수를 의미\n",
    "plt.hist(jan, bins=100,color='b',label='Jan')\n",
    "plt.legend()\n",
    "plt.show()\n",
    "\n",
    "f.close()\n",
    "\n"
   ]
  },
  {
   "cell_type": "markdown",
   "metadata": {},
   "source": [
    "with open() 문과 리스트 내포(list comprehension) 표현식으로  코드를 아래처럼 간략하게 표현할 수 있다."
   ]
  },
  {
   "cell_type": "code",
   "execution_count": 2,
   "metadata": {},
   "outputs": [
    {
     "data": {
      "image/png": "[encoded data removed]",
      "text/plain": [
       "<Figure size 432x288 with 1 Axes>"
      ]
     },
     "metadata": {
      "needs_background": "light"
     },
     "output_type": "display_data"
    }
   ],
   "source": [
    "import csv\n",
    "\n",
    "with open(\"seoul.csv\", newline='') as f:\n",
    "    data=list(csv.reader(f))\n",
    "    \n",
    "jan=[]\n",
    "aug=[]\n",
    "\n",
    "avgtemperatureIndex = data[0].index(\"평균기온(℃)\")\n",
    "\n",
    "jan.append([float(row[avgtemperatureIndex]) for row  in data[1:] if row[2]!='' if row[0].split('-')[1] =='01'])\n",
    "\n",
    "aug.append([float(row[avgtemperatureIndex]) for row  in data[1:] if row[2]!='' if row[0].split('-')[1] =='08'])\n",
    "\n",
    "\n",
    "\n",
    "plt.hist(jan, bins=100,color='b',label='Jan')\n",
    "plt.hist(aug, bins=100,color='r',label='Aug') \n",
    "plt.legend()\n",
    "plt.show()\n",
    "\n",
    "f.close()"
   ]
  }
 ],
 "metadata": {
  "interpreter": {
   "hash": "3c6629c952f1cdae0ea3ff67a17795d11700bc42010e89d050c3c06faece7950"
  },
  "kernelspec": {
   "display_name": "Python 3.10.4 64-bit (windows store)",
   "language": "python",
   "name": "python3"
  },
  "language_info": {
   "codemirror_mode": {
    "name": "ipython",
    "version": 3
   },
   "file_extension": ".py",
   "mimetype": "text/x-python",
   "name": "python",
   "nbconvert_exporter": "python",
   "pygments_lexer": "ipython3",
   "version": "3.10.5"
  },
  "orig_nbformat": 4
 },
 "nbformat": 4,
 "nbformat_minor": 2
}
