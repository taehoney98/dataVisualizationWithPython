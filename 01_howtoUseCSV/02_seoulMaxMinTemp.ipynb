{
 "cells": [
  {
   "cell_type": "markdown",
   "metadata": {},
   "source": [
    "# seoulMaxMinTemp\n",
    "서울시의 일별 평균기온과 최저기온, 최고기온이 기록된 공공 데이터를 가져와 \n",
    "기상관측 이래 서울의 최고 기온과 최저 기온의 날짜를 출력한다.\n",
    "\n",
    "## seoul.csv\n",
    "seoul.csv 파일엔\n",
    "row[0] : 날짜 <p>\n",
    "row[-1] : 최고기온  <p>\n",
    "row[-2] : 최저기온 이 각각 기록되어 있다.\n",
    "\n"
   ]
  },
  {
   "cell_type": "code",
   "execution_count": 1,
   "metadata": {},
   "outputs": [],
   "source": [
    "import csv\n",
    "f = open('seoul.csv')\n",
    "data =csv.reader(f)\n",
    "header=next(data)\n",
    "\n",
    "max_temp = -999\n",
    "\n",
    "for row in data:\n",
    "        if row[-1]==\"\": \n",
    "            row[-1]=-999\n",
    "        \n",
    "        row[-1]=float(row[-1]) #최고기온 저장됨\n",
    "        \n",
    "        if max_temp < row[-1]:\n",
    "            max_date = row[0] #최고기온에 해당하는 날짜\n",
    "            max_temp = row[-1] # 최고기온 갱신\n",
    "            \n",
    "f.close()"
   ]
  },
  {
   "cell_type": "code",
   "execution_count": 2,
   "metadata": {},
   "outputs": [
    {
     "name": "stdout",
     "output_type": "stream",
     "text": [
      "기온 가장 높은 날은  2018-08-01 온도는 39.6\n"
     ]
    }
   ],
   "source": [
    "import csv\n",
    "f = open('seoul.csv')\n",
    "data =csv.reader(f)\n",
    "header=next(data)\n",
    "\n",
    "\n",
    "max_temp = -999\n",
    "max_date=''\n",
    "\n",
    "\n",
    "for row in data :\n",
    "    if row[-1]=='':\n",
    "        row[-1] = -999 # 빈 문자열 값으로 -999 지정\n",
    "    row[-1] = float(row[-1]) # 최고기온 실수 변환\n",
    "    if max_temp < row[-1]:\n",
    "        max_date = row[0]\n",
    "        max_temp = row[-1]\n",
    "        \n",
    "f.close()\n",
    "print(\"기온 가장 높은 날은 \", max_date , \"온도는\", max_temp)"
   ]
  },
  {
   "cell_type": "markdown",
   "metadata": {},
   "source": [
    "math 모듈을 이용해 max_temp 과 min_temp을 각각 음의 무한대와 양의 무한대로 초기화 후 진행한다."
   ]
  },
  {
   "cell_type": "code",
   "execution_count": 3,
   "metadata": {},
   "outputs": [
    {
     "name": "stdout",
     "output_type": "stream",
     "text": [
      "기상관측 이래 서울의 최고기온이 가장 높은 날은  2018-08-01  온도는 39.6 입니다.\n",
      "기상관측 이래 서울의 최저기온이 가장 낮은 날은  1927-12-31  온도는 -23.1 입니다.\n"
     ]
    }
   ],
   "source": [
    "import csv\n",
    "import math\n",
    "min_temp = math.inf #양의 무한대\n",
    "max_temp = -math.inf #음의 무한대\n",
    "\n",
    "max_date=''\n",
    "min_date=''\n",
    "\n",
    "f = open('seoul.csv')\n",
    "data =csv.reader(f)\n",
    "header=next(data)\n",
    "\n",
    "for row in data :\n",
    "    if row[-1]=='':\n",
    "        row[-1] = -math.inf #빈 문자열 값으로 음의 무한대 지정\n",
    "    row[-1] = float(row[-1]) #최고기온 실수 변환\n",
    "    \n",
    "    if max_temp < row[-1]:\n",
    "        max_date = row[0]\n",
    "        max_temp = row[-1]\n",
    "        \n",
    "    if row[-2]=='':\n",
    "        row[-2] = math.inf #빈 문자열 값으로 양의 무한대 지정\n",
    "    row[-2] = float(row[-2]) #최저기온 실수 변환\n",
    "    \n",
    "    if min_temp > row[-2]:\n",
    "        min_date = row[0]\n",
    "        min_temp = row[-2]   \n",
    "f.close()\n",
    "print(\"기상관측 이래 서울의 최고기온이 가장 높은 날은 \", max_date ,\" 온도는\", max_temp, \"입니다.\")\n",
    "print(\"기상관측 이래 서울의 최저기온이 가장 낮은 날은 \", min_date , \" 온도는\", min_temp, \"입니다.\")"
   ]
  }
 ],
 "metadata": {
  "interpreter": {
   "hash": "3c6629c952f1cdae0ea3ff67a17795d11700bc42010e89d050c3c06faece7950"
  },
  "kernelspec": {
   "display_name": "Python 3.10.4 64-bit (windows store)",
   "language": "python",
   "name": "python3"
  },
  "language_info": {
   "codemirror_mode": {
    "name": "ipython",
    "version": 3
   },
   "file_extension": ".py",
   "mimetype": "text/x-python",
   "name": "python",
   "nbconvert_exporter": "python",
   "pygments_lexer": "ipython3",
   "version": "3.10.4"
  }
 },
 "nbformat": 4,
 "nbformat_minor": 2
}
