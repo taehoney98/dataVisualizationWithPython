{
 "cells": [
  {
   "cell_type": "markdown",
   "metadata": {},
   "source": [
    "# maxNumOfPassangers.ipynb\n",
    "2020_04_subwaytime.csv 파일을 이용해 특정시간대의 최대승차인원과 최대하차인원을 계산한다."
   ]
  },
  {
   "cell_type": "markdown",
   "metadata": {},
   "source": [
    "\n",
    "## 승차시간(time)과 인덱스(index) 간 패턴 찾기\n",
    "승차시간이 04시 부터 시작하므로 \n",
    "| time | index |\n",
    "|---|---|\n",
    "| 4 | 4 |\n",
    "| 5 | 6 |\n",
    "| 6 | 8 |\n",
    "| 7 | 10 |\n",
    "| 8 | 12 |\n",
    "| 23 | ? | \n",
    "\n",
    "\n",
    "\n",
    "\n",
    "index=4+(time-4) * 2 라는 패턴을 가진다는 것을 알 수 있다. "
   ]
  },
  {
   "cell_type": "code",
   "execution_count": 18,
   "metadata": {},
   "outputs": [
    {
     "name": "stdout",
     "output_type": "stream",
     "text": [
      "신림 2호선 65476\n"
     ]
    }
   ],
   "source": [
    "import csv\n",
    "f=open('2020_04_subwaytime.csv')\n",
    "data=csv.reader(f)\n",
    "next(data)\n",
    "next(data)\n",
    "maxOfP=0 \n",
    "max_station=[]\n",
    "\n",
    "time=int(input('알고싶은 시간대 입력'))\n",
    "index=4+(time-4)*2\n",
    "\n",
    "\n",
    "for row in data:\n",
    "    row[4:]=map(int,row[4:])\n",
    "    a= row[4+(time-4)*2]\n",
    "    if a> maxOfP:\n",
    "        maxOfP=a\n",
    "        max_station =row[3]+\" \"+row[1]\n",
    "        \n",
    "print(max_station, maxOfP)"
   ]
  },
  {
   "cell_type": "markdown",
   "metadata": {},
   "source": [
    "\n",
    "## 하차시간(time)과 인덱스(index) 간 패턴 찾기\n",
    "하차시간이 04시 부터 시작하므로 \n",
    "| time | index |\n",
    "|---|---|\n",
    "| 4 | 5 |\n",
    "| 5 | 7 |\n",
    "| 6 | 9 |\n",
    "| 7 | 11 |\n",
    "| 8 | 13 |\n",
    "| 23 | ? | \n",
    "\n",
    "\n",
    "\n",
    "\n",
    "index=5+(time-4) * 2 라는 패턴을 가진다는 것을 알 수 있다. "
   ]
  },
  {
   "cell_type": "code",
   "execution_count": 19,
   "metadata": {},
   "outputs": [
    {
     "name": "stdout",
     "output_type": "stream",
     "text": [
      "최대승차인원 신림(2호선) 65476\n",
      "최대하차인원 강남(2호선) 94942\n"
     ]
    }
   ],
   "source": [
    "import csv\n",
    "f=open('2020_04_subwaytime.csv')\n",
    "data=csv.reader(f)\n",
    "next(data)\n",
    "next(data)\n",
    "result=[]\n",
    "maxOfP=0 *24\n",
    "maxS=[\"\"]*24\n",
    "offMaxP=0 *24\n",
    "offMaxS=[\"\"]*24\n",
    "temptime=0\n",
    "\n",
    "time=int(input('알고싶은 시간대 입력'))\n",
    "\n",
    "for row in data:\n",
    "    row[4:]=map(int,row[4:])\n",
    "    \n",
    "    for j in range(24):\n",
    "        temp=row[4+(time-4)*2]\n",
    "        temptime=(j+4)\n",
    "        if temptime> 24:\n",
    "            temptime=temptime-24\n",
    "    \n",
    "        if temp> maxOfP:\n",
    "            maxOfP=temp\n",
    "            maxS=row[3]+\"(\"+row[1]+\")\"\n",
    "\n",
    "        temp=row[5+(time-4)*2]\n",
    "        if temp>offMaxP:\n",
    "            offMaxP =temp\n",
    "            offMaxS=row[3]+\"(\"+row[1]+\")\"\n",
    "\n",
    "\n",
    "    \n",
    "    \n",
    "    \n",
    "print('최대승차인원',maxS,format(maxOfP))\n",
    "print('최대하차인원',offMaxS,format(offMaxP))"
   ]
  }
 ],
 "metadata": {
  "interpreter": {
   "hash": "3c6629c952f1cdae0ea3ff67a17795d11700bc42010e89d050c3c06faece7950"
  },
  "kernelspec": {
   "display_name": "Python 3.10.4 64-bit (windows store)",
   "language": "python",
   "name": "python3"
  },
  "language_info": {
   "codemirror_mode": {
    "name": "ipython",
    "version": 3
   },
   "file_extension": ".py",
   "mimetype": "text/x-python",
   "name": "python",
   "nbconvert_exporter": "python",
   "pygments_lexer": "ipython3",
   "version": "3.10.4"
  }
 },
 "nbformat": 4,
 "nbformat_minor": 2
}
